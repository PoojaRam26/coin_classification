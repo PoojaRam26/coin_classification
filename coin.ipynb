{
 "metadata": {
  "language_info": {
   "codemirror_mode": {
    "name": "ipython",
    "version": 3
   },
   "file_extension": ".py",
   "mimetype": "text/x-python",
   "name": "python",
   "nbconvert_exporter": "python",
   "pygments_lexer": "ipython3",
   "version": "3.8.3"
  },
  "orig_nbformat": 2,
  "kernelspec": {
   "name": "python383jvsc74a57bd05d97ad4eda96f4e0dcd5ae4f97368654619500468c6147550d2a1b2a1881f9a5",
   "display_name": "Python 3.8.3 64-bit ('Python38')"
  },
  "metadata": {
   "interpreter": {
    "hash": "5d97ad4eda96f4e0dcd5ae4f97368654619500468c6147550d2a1b2a1881f9a5"
   }
  }
 },
 "nbformat": 4,
 "nbformat_minor": 2,
 "cells": [
  {
   "cell_type": "code",
   "execution_count": 3,
   "metadata": {},
   "outputs": [],
   "source": [
    "import tensorflow as tf\n",
    "from tensorflow.keras import layers\n",
    "from tensorflow.keras.layers import Activation, Dense\n",
    "import numpy as np\n",
    "import matplotlib.pyplot as plt \n",
    "from pathlib import Path\n",
    "from sklearn.model_selection import train_test_split\n",
    "from PIL import Image \n",
    "\n",
    "%matplotlib inline"
   ]
  },
  {
   "cell_type": "code",
   "execution_count": 5,
   "metadata": {},
   "outputs": [],
   "source": [
    "from tqdm.notebook import tqdm\n",
    "from tqdm import tqdm\n",
    "import tqdm"
   ]
  },
  {
   "cell_type": "code",
   "execution_count": 6,
   "metadata": {},
   "outputs": [],
   "source": [
    "input_path = Path(\"..\\\\coin\\\\classification_dataset\\\\all\")\n",
    "im_size = 320\n",
    "\n",
    "image_files = list(input_path.glob('*.jpg'))"
   ]
  },
  {
   "cell_type": "code",
   "execution_count": 7,
   "metadata": {},
   "outputs": [],
   "source": [
    "def read_file(fname):\n",
    "    im = Image.open(fname)\n",
    "    im.thumbnail((im_size, im_size))\n",
    "    im_array = np.asarray(im)\n",
    "    target = int(fname.stem.split('_')[0])\n",
    "    return im_array, target"
   ]
  },
  {
   "cell_type": "code",
   "execution_count": 17,
   "metadata": {},
   "outputs": [
    {
     "output_type": "stream",
     "name": "stderr",
     "text": [
      "100%|██████████| 3059/3059 [02:53<00:00, 17.64it/s]\n"
     ]
    }
   ],
   "source": [
    "images = []\n",
    "targets = []\n",
    "\n",
    "for image_file in tqdm.tqdm(image_files):\n",
    "    image, target = read_file(image_file)\n",
    "    \n",
    "    images.append(image)\n",
    "    targets.append(target)"
   ]
  },
  {
   "cell_type": "code",
   "execution_count": 18,
   "metadata": {},
   "outputs": [
    {
     "output_type": "error",
     "ename": "MemoryError",
     "evalue": "Unable to allocate 2.63 GiB for an array with shape (3059, 240, 320, 3) and data type float32",
     "traceback": [
      "\u001b[1;31m---------------------------------------------------------------------------\u001b[0m",
      "\u001b[1;31mMemoryError\u001b[0m                               Traceback (most recent call last)",
      "\u001b[1;32m<ipython-input-18-957e77a2f4bf>\u001b[0m in \u001b[0;36m<module>\u001b[1;34m\u001b[0m\n\u001b[1;32m----> 1\u001b[1;33m \u001b[0mX\u001b[0m \u001b[1;33m=\u001b[0m \u001b[1;33m(\u001b[0m\u001b[0mnp\u001b[0m\u001b[1;33m.\u001b[0m\u001b[0marray\u001b[0m\u001b[1;33m(\u001b[0m\u001b[0mimages\u001b[0m\u001b[1;33m)\u001b[0m\u001b[1;33m.\u001b[0m\u001b[0mastype\u001b[0m\u001b[1;33m(\u001b[0m\u001b[0mnp\u001b[0m\u001b[1;33m.\u001b[0m\u001b[0mfloat32\u001b[0m\u001b[1;33m)\u001b[0m \u001b[1;33m/\u001b[0m \u001b[1;36m127.5\u001b[0m\u001b[1;33m)\u001b[0m \u001b[1;33m-\u001b[0m \u001b[1;36m1\u001b[0m\u001b[1;33m\u001b[0m\u001b[1;33m\u001b[0m\u001b[0m\n\u001b[0m\u001b[0;32m      2\u001b[0m \u001b[0my_cls\u001b[0m \u001b[1;33m=\u001b[0m \u001b[0mnp\u001b[0m\u001b[1;33m.\u001b[0m\u001b[0marray\u001b[0m\u001b[1;33m(\u001b[0m\u001b[0mtargets\u001b[0m\u001b[1;33m)\u001b[0m\u001b[1;33m\u001b[0m\u001b[1;33m\u001b[0m\u001b[0m\n",
      "\u001b[1;31mMemoryError\u001b[0m: Unable to allocate 2.63 GiB for an array with shape (3059, 240, 320, 3) and data type float32"
     ]
    }
   ],
   "source": [
    "X = (np.array(images).astype(np.float32) / 127.5) - 1\n",
    "y_cls = np.array(targets)"
   ]
  },
  {
   "cell_type": "code",
   "execution_count": null,
   "metadata": {},
   "outputs": [],
   "source": [
    "X.shape, y_cls.shape"
   ]
  },
  {
   "cell_type": "code",
   "execution_count": null,
   "metadata": {},
   "outputs": [],
   "source": [
    "coins_ids = {\n",
    "    5: 0,\n",
    "    10: 1,\n",
    "    25: 2,\n",
    "    50: 3,\n",
    "    100: 4\n",
    "}\n",
    "\n",
    "ids_coins = [5, 10, 25, 50, 100]\n",
    "\n",
    "y = np.array([coins_ids[coin] for coin in y_cls])"
   ]
  },
  {
   "cell_type": "code",
   "execution_count": null,
   "metadata": {},
   "outputs": [],
   "source": [
    "X_train, X_valid, y_train, y_valid, fname_train, fname_valid = train_test_split(\n",
    "    X, y, image_files, test_size=0.2, random_state=42)"
   ]
  },
  {
   "cell_type": "code",
   "execution_count": null,
   "metadata": {},
   "outputs": [],
   "source": [
    "im_width = X.shape[2]\n",
    "im_height = X.shape[1]\n",
    "\n",
    "im_width, im_height"
   ]
  },
  {
   "cell_type": "code",
   "execution_count": 4,
   "metadata": {},
   "outputs": [],
   "source": [
    "from tensorflow import keras\n",
    "from keras.layers import Conv2D, MaxPool2D, Flatten, GlobalMaxPool2D ,Dense"
   ]
  },
  {
   "cell_type": "code",
   "execution_count": null,
   "metadata": {},
   "outputs": [],
   "source": [
    "model = tf.keras.Sequential()\n",
    "\n",
    "model.add( Conv2D(16,3, activation = 'relu' , padding = 'same', input_shape = (im_height, im_width, 3))\n",
    "model.add(MaxPool2D(2))\n",
    "\n",
    "model.add( Conv2D(32, 3, activation='relu', padding='same') )\n",
    "model.add( MaxPool2D(2) )\n",
    "\n",
    "model.add( Conv2D(64, 3, activation='relu', padding='same') )\n",
    "model.add( MaxPool2D(2) )\n",
    "\n",
    "model.add( Conv2D(128, 3, activation='relu', padding='same') )\n",
    "model.add( MaxPool2D(2) )\n",
    "\n",
    "model.add( Conv2D(256, 3, activation='relu', padding='same') )\n",
    "model.add( GlobalAvgPool2D() )\n",
    "model.add( Dense(256, activation='relu') )\n",
    "model.add( Dense(5, activation='softmax') )\n",
    "\n",
    "model.summary()"
   ]
  },
  {
   "cell_type": "code",
   "execution_count": null,
   "metadata": {},
   "outputs": [],
   "source": []
  }
 ]
}