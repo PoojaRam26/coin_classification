{
  "nbformat": 4,
  "nbformat_minor": 0,
  "metadata": {
    "language_info": {
      "codemirror_mode": {
        "name": "ipython",
        "version": 3
      },
      "file_extension": ".py",
      "mimetype": "text/x-python",
      "name": "python",
      "nbconvert_exporter": "python",
      "pygments_lexer": "ipython3",
      "version": "3.8.3"
    },
    "orig_nbformat": 2,
    "kernelspec": {
      "name": "python383jvsc74a57bd05d97ad4eda96f4e0dcd5ae4f97368654619500468c6147550d2a1b2a1881f9a5",
      "display_name": "Python 3.8.3 64-bit ('Python38')"
    },
    "metadata": {
      "interpreter": {
        "hash": "5d97ad4eda96f4e0dcd5ae4f97368654619500468c6147550d2a1b2a1881f9a5"
      }
    },
    "colab": {
      "name": "coin.ipynb",
      "provenance": [],
      "collapsed_sections": [],
      "include_colab_link": true
    }
  },
  "cells": [
    {
      "cell_type": "markdown",
      "metadata": {
        "id": "view-in-github",
        "colab_type": "text"
      },
      "source": [
        "<a href=\"https://colab.research.google.com/github/PoojaRam26/coin_classification/blob/main/coin.ipynb\" target=\"_parent\"><img src=\"https://colab.research.google.com/assets/colab-badge.svg\" alt=\"Open In Colab\"/></a>"
      ]
    },
    {
      "cell_type": "code",
      "metadata": {
        "colab": {
          "base_uri": "https://localhost:8080/"
        },
        "id": "Sip5z5-CwPZx",
        "outputId": "9c5fe5e8-a087-48d3-c478-e9918f46e8ed"
      },
      "source": [
        "from google.colab import drive\n",
        "drive.mount('/content/drive')"
      ],
      "execution_count": 1,
      "outputs": [
        {
          "output_type": "stream",
          "text": [
            "Mounted at /content/drive\n"
          ],
          "name": "stdout"
        }
      ]
    },
    {
      "cell_type": "code",
      "metadata": {
        "colab": {
          "base_uri": "https://localhost:8080/"
        },
        "id": "PmNLdWozBZgs",
        "outputId": "893be66e-679a-408c-ea26-ca8107fe043c"
      },
      "source": [
        "!ls drive"
      ],
      "execution_count": 2,
      "outputs": [
        {
          "output_type": "stream",
          "text": [
            "MyDrive\n"
          ],
          "name": "stdout"
        }
      ]
    },
    {
      "cell_type": "code",
      "metadata": {
        "colab": {
          "base_uri": "https://localhost:8080/"
        },
        "id": "eax8mXarDtYw",
        "outputId": "efe0c708-2929-44e9-edb8-ad537266ce14"
      },
      "source": [
        "!ls drive/MyDrive/Coin_class/"
      ],
      "execution_count": 4,
      "outputs": [
        {
          "output_type": "stream",
          "text": [
            "'archive (3).zip'\n"
          ],
          "name": "stdout"
        }
      ]
    },
    {
      "cell_type": "code",
      "metadata": {
        "id": "yE_lM4SZth9D"
      },
      "source": [
        "import tensorflow as tf\n",
        "from tensorflow.keras import layers\n",
        "from tensorflow.keras.layers import Activation, Dense\n",
        "import numpy as np\n",
        "import matplotlib.pyplot as plt \n",
        "from pathlib import Path\n",
        "from sklearn.model_selection import train_test_split\n",
        "from PIL import Image \n",
        "import os\n",
        "%matplotlib inline\n",
        "from tqdm import tqdm"
      ],
      "execution_count": 18,
      "outputs": []
    },
    {
      "cell_type": "code",
      "metadata": {
        "id": "_y9pOfwDth9M"
      },
      "source": [
        "from tqdm.notebook import tqdm\n",
        "from tqdm import tqdm\n",
        "import tqdm"
      ],
      "execution_count": 19,
      "outputs": []
    },
    {
      "cell_type": "code",
      "metadata": {
        "id": "_wcRjuCoth9N"
      },
      "source": [
        "input_path = Path(\"/content/classification_dataset/all\")\n",
        "im_size = 320\n",
        "image_files = list(input_path.glob('*.jpg'))\n"
      ],
      "execution_count": 22,
      "outputs": []
    },
    {
      "cell_type": "code",
      "metadata": {
        "id": "l5OK7FVIth9O"
      },
      "source": [
        "def read_file(fname):\n",
        "    im = Image.open(fname)\n",
        "    im.thumbnail((im_size, im_size))\n",
        "    im_array = np.asarray(im)\n",
        "    target = int(fname.stem.split('_')[0])\n",
        "    return im_array, target"
      ],
      "execution_count": 23,
      "outputs": []
    },
    {
      "cell_type": "code",
      "metadata": {
        "colab": {
          "base_uri": "https://localhost:8080/"
        },
        "id": "KCLbo6Ahth9P",
        "outputId": "41db4c39-6315-43c5-a77c-3b95b8edd200"
      },
      "source": [
        "images = []\n",
        "targets = []\n",
        "\n",
        "for image_file in tqdm.tqdm(image_files):\n",
        "    image, target = read_file(image_file)\n",
        "    \n",
        "    images.append(image)\n",
        "    targets.append(target)"
      ],
      "execution_count": 24,
      "outputs": [
        {
          "output_type": "stream",
          "text": [
            "100%|██████████| 3059/3059 [00:28<00:00, 105.82it/s]\n"
          ],
          "name": "stderr"
        }
      ]
    },
    {
      "cell_type": "code",
      "metadata": {
        "id": "fQAB9nqCth9R"
      },
      "source": [
        "X = (np.array(images).astype(np.float32) / 127.5) - 1\n",
        "y_cls = np.array(targets)"
      ],
      "execution_count": 25,
      "outputs": []
    },
    {
      "cell_type": "code",
      "metadata": {
        "id": "Z3IMWC7tth9R",
        "colab": {
          "base_uri": "https://localhost:8080/"
        },
        "outputId": "6bcefbf6-f2e1-426a-d04f-78671a9fad6e"
      },
      "source": [
        "X.shape, y_cls.shape"
      ],
      "execution_count": 26,
      "outputs": [
        {
          "output_type": "execute_result",
          "data": {
            "text/plain": [
              "((3059, 240, 320, 3), (3059,))"
            ]
          },
          "metadata": {
            "tags": []
          },
          "execution_count": 26
        }
      ]
    },
    {
      "cell_type": "code",
      "metadata": {
        "id": "zPM4uOn3th9S"
      },
      "source": [
        "coins_ids = {\n",
        "    5: 0,\n",
        "    10: 1,\n",
        "    25: 2,\n",
        "    50: 3,\n",
        "    100: 4\n",
        "}\n",
        "\n",
        "ids_coins = [5, 10, 25, 50, 100]\n",
        "\n",
        "y = np.array([coins_ids[coin] for coin in y_cls])"
      ],
      "execution_count": 27,
      "outputs": []
    },
    {
      "cell_type": "code",
      "metadata": {
        "id": "zry8zXMNth9T"
      },
      "source": [
        "X_train, X_valid, y_train, y_valid, fname_train, fname_valid = train_test_split(\n",
        "    X, y, image_files, test_size=0.2, random_state=42)"
      ],
      "execution_count": 28,
      "outputs": []
    },
    {
      "cell_type": "code",
      "metadata": {
        "id": "7l_qnVBCth9T",
        "colab": {
          "base_uri": "https://localhost:8080/"
        },
        "outputId": "0300b651-39a0-4105-9850-3f2716a8ab5b"
      },
      "source": [
        "im_width = X.shape[2]\n",
        "im_height = X.shape[1]\n",
        "\n",
        "im_width, im_height"
      ],
      "execution_count": 29,
      "outputs": [
        {
          "output_type": "execute_result",
          "data": {
            "text/plain": [
              "(320, 240)"
            ]
          },
          "metadata": {
            "tags": []
          },
          "execution_count": 29
        }
      ]
    },
    {
      "cell_type": "code",
      "metadata": {
        "id": "GvfBfFkith9U"
      },
      "source": [
        "from tensorflow import keras\n",
        "from keras.layers import Conv2D, MaxPool2D, Flatten, GlobalAvgPool2D ,Dense"
      ],
      "execution_count": 37,
      "outputs": []
    },
    {
      "cell_type": "code",
      "metadata": {
        "colab": {
          "base_uri": "https://localhost:8080/"
        },
        "id": "jWM4JzbUZIEc",
        "outputId": "e3907fae-00d8-4b28-cf2a-04bfceae913f"
      },
      "source": [
        "model = tf.keras.Sequential()\n",
        "model.add( Conv2D(16, 3, activation='relu', padding='same', input_shape=(im_height, im_width, 3)) )\n",
        "model.add( MaxPool2D(2) )\n",
        "model.add( Conv2D(32, 3, activation='relu', padding='same') )\n",
        "model.add( MaxPool2D(2) )\n",
        "model.add( Conv2D(64, 3, activation='relu', padding='same') )\n",
        "model.add( MaxPool2D(2) )\n",
        "model.add( Conv2D(128, 3, activation='relu', padding='same') )\n",
        "model.add( MaxPool2D(2) )\n",
        "model.add( Conv2D(256, 3, activation='relu', padding='same') )\n",
        "\n",
        "model.add( GlobalAvgPool2D() )\n",
        "\n",
        "model.add( Dense(256, activation='relu') )\n",
        "model.add( Dense(5, activation='softmax') )\n",
        "model.summary()"
      ],
      "execution_count": 38,
      "outputs": [
        {
          "output_type": "stream",
          "text": [
            "Model: \"sequential_3\"\n",
            "_________________________________________________________________\n",
            "Layer (type)                 Output Shape              Param #   \n",
            "=================================================================\n",
            "conv2d_8 (Conv2D)            (None, 240, 320, 16)      448       \n",
            "_________________________________________________________________\n",
            "max_pooling2d_7 (MaxPooling2 (None, 120, 160, 16)      0         \n",
            "_________________________________________________________________\n",
            "conv2d_9 (Conv2D)            (None, 120, 160, 32)      4640      \n",
            "_________________________________________________________________\n",
            "max_pooling2d_8 (MaxPooling2 (None, 60, 80, 32)        0         \n",
            "_________________________________________________________________\n",
            "conv2d_10 (Conv2D)           (None, 60, 80, 64)        18496     \n",
            "_________________________________________________________________\n",
            "max_pooling2d_9 (MaxPooling2 (None, 30, 40, 64)        0         \n",
            "_________________________________________________________________\n",
            "conv2d_11 (Conv2D)           (None, 30, 40, 128)       73856     \n",
            "_________________________________________________________________\n",
            "max_pooling2d_10 (MaxPooling (None, 15, 20, 128)       0         \n",
            "_________________________________________________________________\n",
            "conv2d_12 (Conv2D)           (None, 15, 20, 256)       295168    \n",
            "_________________________________________________________________\n",
            "global_average_pooling2d (Gl (None, 256)               0         \n",
            "_________________________________________________________________\n",
            "dense (Dense)                (None, 256)               65792     \n",
            "_________________________________________________________________\n",
            "dense_1 (Dense)              (None, 5)                 1285      \n",
            "=================================================================\n",
            "Total params: 459,685\n",
            "Trainable params: 459,685\n",
            "Non-trainable params: 0\n",
            "_________________________________________________________________\n"
          ],
          "name": "stdout"
        }
      ]
    },
    {
      "cell_type": "code",
      "metadata": {
        "id": "Y3fBEsrKth9V"
      },
      "source": [
        "\n",
        "model.compile(optimizer= tf.optimizers.Adam(),loss='sparse_categorical_crossentropy',metrics=['accuracy'])\n"
      ],
      "execution_count": 40,
      "outputs": []
    },
    {
      "cell_type": "code",
      "metadata": {
        "colab": {
          "base_uri": "https://localhost:8080/"
        },
        "id": "52-ZPI43dyHz",
        "outputId": "ade51d91-c4bd-4542-d8dd-087cbcd03ce8"
      },
      "source": [
        "history = model.fit(X_train,y_train, epochs=500, validation_data=(X_valid,y_valid))"
      ],
      "execution_count": null,
      "outputs": [
        {
          "output_type": "stream",
          "text": [
            "Epoch 1/500\n",
            "77/77 [==============================] - 177s 2s/step - loss: 0.8361 - accuracy: 0.6567 - val_loss: 0.8643 - val_accuracy: 0.5899\n",
            "Epoch 2/500\n",
            "77/77 [==============================] - 177s 2s/step - loss: 0.7276 - accuracy: 0.7258 - val_loss: 0.6368 - val_accuracy: 0.8399\n",
            "Epoch 3/500\n",
            "77/77 [==============================] - 177s 2s/step - loss: 0.6081 - accuracy: 0.7953 - val_loss: 0.5337 - val_accuracy: 0.8252\n",
            "Epoch 4/500\n",
            "77/77 [==============================] - 177s 2s/step - loss: 0.5344 - accuracy: 0.8284 - val_loss: 0.4491 - val_accuracy: 0.8742\n",
            "Epoch 5/500\n",
            "77/77 [==============================] - 176s 2s/step - loss: 0.4739 - accuracy: 0.8378 - val_loss: 0.5744 - val_accuracy: 0.7729\n",
            "Epoch 6/500\n",
            "77/77 [==============================] - 175s 2s/step - loss: 0.4156 - accuracy: 0.8611 - val_loss: 0.4258 - val_accuracy: 0.8676\n",
            "Epoch 7/500\n",
            "77/77 [==============================] - 175s 2s/step - loss: 0.3988 - accuracy: 0.8717 - val_loss: 0.3708 - val_accuracy: 0.8889\n",
            "Epoch 8/500\n",
            "77/77 [==============================] - 175s 2s/step - loss: 0.3038 - accuracy: 0.9117 - val_loss: 0.3777 - val_accuracy: 0.8905\n",
            "Epoch 9/500\n",
            "77/77 [==============================] - 175s 2s/step - loss: 0.3234 - accuracy: 0.9036 - val_loss: 0.4520 - val_accuracy: 0.8742\n",
            "Epoch 10/500\n",
            "77/77 [==============================] - 176s 2s/step - loss: 0.3376 - accuracy: 0.9036 - val_loss: 0.3746 - val_accuracy: 0.8791\n",
            "Epoch 11/500\n",
            "77/77 [==============================] - 175s 2s/step - loss: 0.2710 - accuracy: 0.9228 - val_loss: 0.5701 - val_accuracy: 0.8464\n",
            "Epoch 12/500\n",
            "77/77 [==============================] - 175s 2s/step - loss: 0.2901 - accuracy: 0.9130 - val_loss: 0.2880 - val_accuracy: 0.9216\n",
            "Epoch 13/500\n",
            "77/77 [==============================] - 175s 2s/step - loss: 0.2210 - accuracy: 0.9383 - val_loss: 0.2737 - val_accuracy: 0.9281\n",
            "Epoch 14/500\n",
            "77/77 [==============================] - 175s 2s/step - loss: 0.2058 - accuracy: 0.9379 - val_loss: 0.3063 - val_accuracy: 0.9036\n",
            "Epoch 15/500\n",
            "77/77 [==============================] - 175s 2s/step - loss: 0.2192 - accuracy: 0.9330 - val_loss: 0.3826 - val_accuracy: 0.8725\n",
            "Epoch 16/500\n",
            "77/77 [==============================] - 174s 2s/step - loss: 0.2079 - accuracy: 0.9326 - val_loss: 0.3047 - val_accuracy: 0.9216\n",
            "Epoch 17/500\n",
            "77/77 [==============================] - 174s 2s/step - loss: 0.1462 - accuracy: 0.9546 - val_loss: 0.2793 - val_accuracy: 0.9199\n",
            "Epoch 18/500\n",
            "77/77 [==============================] - 175s 2s/step - loss: 0.1600 - accuracy: 0.9534 - val_loss: 0.1964 - val_accuracy: 0.9395\n",
            "Epoch 19/500\n",
            "77/77 [==============================] - 174s 2s/step - loss: 0.1245 - accuracy: 0.9612 - val_loss: 0.2682 - val_accuracy: 0.9167\n",
            "Epoch 20/500\n",
            "77/77 [==============================] - 174s 2s/step - loss: 0.1445 - accuracy: 0.9587 - val_loss: 0.3137 - val_accuracy: 0.8954\n",
            "Epoch 21/500\n",
            "77/77 [==============================] - 174s 2s/step - loss: 0.1553 - accuracy: 0.9538 - val_loss: 0.1901 - val_accuracy: 0.9510\n",
            "Epoch 22/500\n",
            "77/77 [==============================] - 174s 2s/step - loss: 0.1283 - accuracy: 0.9616 - val_loss: 0.1731 - val_accuracy: 0.9510\n",
            "Epoch 23/500\n",
            "77/77 [==============================] - 174s 2s/step - loss: 0.1321 - accuracy: 0.9616 - val_loss: 0.1951 - val_accuracy: 0.9444\n",
            "Epoch 24/500\n",
            "77/77 [==============================] - 174s 2s/step - loss: 0.1122 - accuracy: 0.9649 - val_loss: 0.2462 - val_accuracy: 0.9232\n",
            "Epoch 25/500\n",
            "77/77 [==============================] - 174s 2s/step - loss: 0.1177 - accuracy: 0.9653 - val_loss: 0.1922 - val_accuracy: 0.9477\n",
            "Epoch 26/500\n",
            "77/77 [==============================] - 174s 2s/step - loss: 0.1483 - accuracy: 0.9555 - val_loss: 0.1804 - val_accuracy: 0.9461\n",
            "Epoch 27/500\n",
            "77/77 [==============================] - 174s 2s/step - loss: 0.0831 - accuracy: 0.9787 - val_loss: 0.1681 - val_accuracy: 0.9363\n",
            "Epoch 28/500\n",
            "77/77 [==============================] - 174s 2s/step - loss: 0.0869 - accuracy: 0.9738 - val_loss: 0.3446 - val_accuracy: 0.8742\n",
            "Epoch 29/500\n",
            "77/77 [==============================] - 174s 2s/step - loss: 0.0787 - accuracy: 0.9743 - val_loss: 0.2214 - val_accuracy: 0.9510\n",
            "Epoch 30/500\n",
            "77/77 [==============================] - 174s 2s/step - loss: 0.0714 - accuracy: 0.9775 - val_loss: 0.2364 - val_accuracy: 0.9379\n",
            "Epoch 31/500\n",
            "77/77 [==============================] - 174s 2s/step - loss: 0.1094 - accuracy: 0.9681 - val_loss: 0.2323 - val_accuracy: 0.9281\n",
            "Epoch 32/500\n",
            "77/77 [==============================] - 174s 2s/step - loss: 0.0970 - accuracy: 0.9677 - val_loss: 0.1270 - val_accuracy: 0.9592\n",
            "Epoch 33/500\n",
            "77/77 [==============================] - 174s 2s/step - loss: 0.0812 - accuracy: 0.9726 - val_loss: 0.2151 - val_accuracy: 0.9232\n",
            "Epoch 34/500\n",
            "77/77 [==============================] - 173s 2s/step - loss: 0.0872 - accuracy: 0.9706 - val_loss: 0.1819 - val_accuracy: 0.9493\n",
            "Epoch 35/500\n",
            "77/77 [==============================] - 174s 2s/step - loss: 0.0653 - accuracy: 0.9804 - val_loss: 0.1564 - val_accuracy: 0.9592\n",
            "Epoch 36/500\n",
            "77/77 [==============================] - 174s 2s/step - loss: 0.0553 - accuracy: 0.9824 - val_loss: 0.1471 - val_accuracy: 0.9575\n",
            "Epoch 37/500\n",
            "77/77 [==============================] - 174s 2s/step - loss: 0.0499 - accuracy: 0.9845 - val_loss: 0.1541 - val_accuracy: 0.9624\n",
            "Epoch 38/500\n",
            "77/77 [==============================] - 174s 2s/step - loss: 0.0520 - accuracy: 0.9800 - val_loss: 0.1879 - val_accuracy: 0.9559\n",
            "Epoch 39/500\n",
            "77/77 [==============================] - 174s 2s/step - loss: 0.0628 - accuracy: 0.9792 - val_loss: 0.1513 - val_accuracy: 0.9608\n",
            "Epoch 40/500\n",
            "77/77 [==============================] - 174s 2s/step - loss: 0.0598 - accuracy: 0.9796 - val_loss: 0.1411 - val_accuracy: 0.9641\n",
            "Epoch 41/500\n",
            "77/77 [==============================] - 174s 2s/step - loss: 0.0826 - accuracy: 0.9714 - val_loss: 0.1832 - val_accuracy: 0.9412\n",
            "Epoch 42/500\n",
            "77/77 [==============================] - 174s 2s/step - loss: 0.0507 - accuracy: 0.9837 - val_loss: 0.1361 - val_accuracy: 0.9575\n",
            "Epoch 43/500\n",
            "77/77 [==============================] - 175s 2s/step - loss: 0.0603 - accuracy: 0.9812 - val_loss: 0.2496 - val_accuracy: 0.9314\n",
            "Epoch 44/500\n",
            "77/77 [==============================] - 175s 2s/step - loss: 0.0636 - accuracy: 0.9771 - val_loss: 0.1807 - val_accuracy: 0.9673\n",
            "Epoch 45/500\n",
            "77/77 [==============================] - 175s 2s/step - loss: 0.1581 - accuracy: 0.9534 - val_loss: 0.1307 - val_accuracy: 0.9624\n",
            "Epoch 46/500\n",
            "77/77 [==============================] - 174s 2s/step - loss: 0.0461 - accuracy: 0.9853 - val_loss: 0.1761 - val_accuracy: 0.9592\n",
            "Epoch 47/500\n",
            "77/77 [==============================] - 175s 2s/step - loss: 0.0402 - accuracy: 0.9865 - val_loss: 0.1573 - val_accuracy: 0.9608\n",
            "Epoch 48/500\n",
            "77/77 [==============================] - 175s 2s/step - loss: 0.0464 - accuracy: 0.9837 - val_loss: 0.2143 - val_accuracy: 0.9444\n",
            "Epoch 49/500\n",
            "77/77 [==============================] - 175s 2s/step - loss: 0.0374 - accuracy: 0.9886 - val_loss: 0.1287 - val_accuracy: 0.9641\n",
            "Epoch 50/500\n",
            "77/77 [==============================] - 176s 2s/step - loss: 0.0310 - accuracy: 0.9881 - val_loss: 0.1673 - val_accuracy: 0.9641\n",
            "Epoch 51/500\n",
            "77/77 [==============================] - 174s 2s/step - loss: 0.0262 - accuracy: 0.9906 - val_loss: 0.1681 - val_accuracy: 0.9657\n",
            "Epoch 52/500\n",
            "77/77 [==============================] - 174s 2s/step - loss: 0.0239 - accuracy: 0.9902 - val_loss: 0.1974 - val_accuracy: 0.9624\n",
            "Epoch 53/500\n",
            "77/77 [==============================] - 175s 2s/step - loss: 0.0283 - accuracy: 0.9873 - val_loss: 0.3044 - val_accuracy: 0.9363\n",
            "Epoch 54/500\n",
            "77/77 [==============================] - 175s 2s/step - loss: 0.0522 - accuracy: 0.9845 - val_loss: 0.1577 - val_accuracy: 0.9657\n",
            "Epoch 55/500\n",
            "77/77 [==============================] - 175s 2s/step - loss: 0.0518 - accuracy: 0.9824 - val_loss: 0.2041 - val_accuracy: 0.9395\n",
            "Epoch 56/500\n",
            "77/77 [==============================] - 175s 2s/step - loss: 0.0307 - accuracy: 0.9898 - val_loss: 0.2228 - val_accuracy: 0.9461\n",
            "Epoch 57/500\n",
            "77/77 [==============================] - 174s 2s/step - loss: 0.1947 - accuracy: 0.9407 - val_loss: 0.1600 - val_accuracy: 0.9592\n",
            "Epoch 58/500\n",
            "77/77 [==============================] - 174s 2s/step - loss: 0.0399 - accuracy: 0.9894 - val_loss: 0.1083 - val_accuracy: 0.9641\n",
            "Epoch 59/500\n",
            "77/77 [==============================] - 174s 2s/step - loss: 0.0289 - accuracy: 0.9881 - val_loss: 0.1180 - val_accuracy: 0.9575\n",
            "Epoch 60/500\n",
            "77/77 [==============================] - 174s 2s/step - loss: 0.0254 - accuracy: 0.9910 - val_loss: 0.1454 - val_accuracy: 0.9493\n",
            "Epoch 61/500\n",
            "77/77 [==============================] - 174s 2s/step - loss: 0.0346 - accuracy: 0.9890 - val_loss: 0.1025 - val_accuracy: 0.9641\n",
            "Epoch 62/500\n",
            "77/77 [==============================] - 174s 2s/step - loss: 0.0234 - accuracy: 0.9914 - val_loss: 0.1087 - val_accuracy: 0.9722\n",
            "Epoch 63/500\n",
            "77/77 [==============================] - 173s 2s/step - loss: 0.0250 - accuracy: 0.9918 - val_loss: 0.1052 - val_accuracy: 0.9657\n",
            "Epoch 64/500\n",
            "77/77 [==============================] - 174s 2s/step - loss: 0.0253 - accuracy: 0.9902 - val_loss: 0.1107 - val_accuracy: 0.9690\n",
            "Epoch 65/500\n",
            "77/77 [==============================] - 173s 2s/step - loss: 0.0261 - accuracy: 0.9910 - val_loss: 0.1649 - val_accuracy: 0.9592\n",
            "Epoch 66/500\n",
            "77/77 [==============================] - 174s 2s/step - loss: 0.0412 - accuracy: 0.9861 - val_loss: 0.1014 - val_accuracy: 0.9624\n",
            "Epoch 67/500\n",
            "77/77 [==============================] - 174s 2s/step - loss: 0.0236 - accuracy: 0.9914 - val_loss: 0.1209 - val_accuracy: 0.9641\n",
            "Epoch 68/500\n",
            "77/77 [==============================] - 175s 2s/step - loss: 0.0171 - accuracy: 0.9943 - val_loss: 0.1179 - val_accuracy: 0.9641\n",
            "Epoch 69/500\n",
            "77/77 [==============================] - 174s 2s/step - loss: 0.0160 - accuracy: 0.9935 - val_loss: 0.1390 - val_accuracy: 0.9624\n",
            "Epoch 70/500\n",
            "77/77 [==============================] - 174s 2s/step - loss: 0.0505 - accuracy: 0.9816 - val_loss: 0.1992 - val_accuracy: 0.9510\n",
            "Epoch 71/500\n",
            "77/77 [==============================] - 174s 2s/step - loss: 0.0679 - accuracy: 0.9800 - val_loss: 0.3028 - val_accuracy: 0.9052\n",
            "Epoch 72/500\n",
            "77/77 [==============================] - 175s 2s/step - loss: 0.0546 - accuracy: 0.9804 - val_loss: 0.1080 - val_accuracy: 0.9624\n",
            "Epoch 73/500\n",
            "77/77 [==============================] - 174s 2s/step - loss: 0.0151 - accuracy: 0.9963 - val_loss: 0.1099 - val_accuracy: 0.9722\n",
            "Epoch 74/500\n",
            "77/77 [==============================] - 174s 2s/step - loss: 0.0133 - accuracy: 0.9955 - val_loss: 0.1052 - val_accuracy: 0.9657\n",
            "Epoch 75/500\n",
            "77/77 [==============================] - 174s 2s/step - loss: 0.0104 - accuracy: 0.9967 - val_loss: 0.1131 - val_accuracy: 0.9690\n",
            "Epoch 76/500\n",
            "77/77 [==============================] - 174s 2s/step - loss: 0.0121 - accuracy: 0.9963 - val_loss: 0.1147 - val_accuracy: 0.9690\n",
            "Epoch 77/500\n",
            "77/77 [==============================] - 173s 2s/step - loss: 0.0103 - accuracy: 0.9955 - val_loss: 0.1248 - val_accuracy: 0.9722\n",
            "Epoch 78/500\n",
            "77/77 [==============================] - 174s 2s/step - loss: 0.0131 - accuracy: 0.9955 - val_loss: 0.1623 - val_accuracy: 0.9673\n",
            "Epoch 79/500\n",
            "49/77 [==================>...........] - ETA: 59s - loss: 0.0087 - accuracy: 0.9974 "
          ],
          "name": "stdout"
        }
      ]
    }
  ]
}